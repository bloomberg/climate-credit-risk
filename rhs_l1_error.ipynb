{
 "cells": [
  {
   "cell_type": "code",
   "execution_count": 2,
   "id": "cef1f03b",
   "metadata": {},
   "outputs": [
    {
     "data": {
      "text/plain": [
       "'Plot of RHS in L1 error'"
      ]
     },
     "execution_count": 2,
     "metadata": {},
     "output_type": "execute_result"
    }
   ],
   "source": [
    "\"\"\"Plot of RHS in L1 error\"\"\""
   ]
  },
  {
   "cell_type": "markdown",
   "id": "5af175f0",
   "metadata": {},
   "source": [
    "We plot the RHS in the $L_1$ error between $\\mathcal{L}_{t}$ and $\\mathcal{L}_{t}^{PCA}$"
   ]
  },
  {
   "cell_type": "markdown",
   "id": "2e5e4ab7",
   "metadata": {
    "vscode": {
     "languageId": "plaintext"
    }
   },
   "source": [
    "For any $p \\geq 1$, plot of\n",
    "\n",
    "$$ \\frac{1}{n} \\sum_{i=1}^{n} \\Lambda^{i} \\, \\left(\\frac{\\sum_{k=3}^{n} \\nu^{k} \\times (u^{i, k})^{2}}{\\sum_{k=1}^{n} \\nu^{k} \\times (u^{i, k})^{2}}\\right)^{\\frac{p}{2(p+1)}}. $$\n",
    "\n",
    "Define also $C_{p} = \\frac{9}{\\sqrt{\\pi}} \\Gamma(\\frac{1+p}{2})^{\\frac{1}{p+1}}$. To simplify, we take $\\Lambda^i = 1$ for all $i$.\n"
   ]
  },
  {
   "cell_type": "code",
   "execution_count": null,
   "id": "9f6ea24a",
   "metadata": {},
   "outputs": [],
   "source": [
    "import matplotlib.pyplot as plt\n",
    "import numpy as np\n",
    "from tqdm import tqdm"
   ]
  },
  {
   "cell_type": "code",
   "execution_count": null,
   "id": "725e01ff",
   "metadata": {},
   "outputs": [],
   "source": [
    "def rhs_func(n, p, b_min, b_max, t=1.0):\n",
    "    \"\"\"RHS function for the L1 error bound\"\"\"\n",
    "    b = np.random.uniform(b_min, b_max, size=n)\n",
    "    b_rep = np.tile(b, (n, 1))\n",
    "    rho = np.random.uniform(-1, 1, size=n)\n",
    "    rho_rep = np.tile(rho, (n, 1))\n",
    "    cov_x = (rho_rep * rho_rep.T) * (1 - np.exp(-(b_rep + b_rep.T) * t))\n",
    "    cov_x /= b_rep + b_rep.T\n",
    "    u, eig_x, _ = np.linalg.svd(cov_x)\n",
    "    num = np.sum(eig_x[2:, None] * u[2:, :]**2, axis=0)\n",
    "    denom = np.sum(eig_x[:, None] * u[:, :]**2, axis=0)\n",
    "    res = np.sum(pow(num / denom, 0.5 * p / (p + 1)))\n",
    "    return res / n\n",
    "\n",
    "\n",
    "def mc_rhs_func(tab_n, n_mc, p, b_min, b_max):\n",
    "    \"\"\"Monte Carlo simulation for the RHS function\"\"\"\n",
    "    bound = np.zeros(tab_n.shape[0])\n",
    "    bound_err = np.zeros(tab_n.shape[0])\n",
    "\n",
    "    for idx in tqdm(range(tab_n.shape[0])):\n",
    "        lst = []\n",
    "        for _ in range(n_mc):\n",
    "            _rhs = rhs_func(n=tab_n[idx], p=p, b_min=b_min, b_max=b_max)\n",
    "            lst.append(_rhs)\n",
    "        bound[idx] = np.array(lst).mean()\n",
    "        bound_err[idx] = 1.96 * np.array(lst).std() / np.sqrt(n_mc)\n",
    "    return bound, bound_err"
   ]
  },
  {
   "cell_type": "code",
   "execution_count": null,
   "id": "9802e9b6",
   "metadata": {},
   "outputs": [],
   "source": [
    "N_MC = 30\n",
    "range_n = np.arange(100, 1500, 100)"
   ]
  },
  {
   "cell_type": "code",
   "execution_count": null,
   "id": "4933bbc5",
   "metadata": {},
   "outputs": [],
   "source": [
    "bound_01, bound_err_01 = mc_rhs_func(\n",
    "    tab_n=range_n,\n",
    "    n_mc=N_MC,\n",
    "    p=1,\n",
    "    b_min=0,\n",
    "    b_max=1,\n",
    ")\n",
    "bound_14, bound_err_14 = mc_rhs_func(\n",
    "    tab_n=range_n,\n",
    "    n_mc=N_MC,\n",
    "    p=1,\n",
    "    b_min=1,\n",
    "    b_max=4,\n",
    ")\n",
    "bound_010, bound_err_010 = mc_rhs_func(\n",
    "    tab_n=range_n,\n",
    "    n_mc=N_MC,\n",
    "    p=1,\n",
    "    b_min=0,\n",
    "    b_max=10,\n",
    ")"
   ]
  },
  {
   "cell_type": "code",
   "execution_count": null,
   "id": "f17ba5ef",
   "metadata": {},
   "outputs": [],
   "source": [
    "MARKERSIZE = 10\n",
    "ELINEWIDTH = 1\n",
    "CAPSIZE = 3"
   ]
  },
  {
   "cell_type": "code",
   "execution_count": null,
   "id": "7cacbb2c",
   "metadata": {},
   "outputs": [],
   "source": [
    "fig, ax = plt.subplots()\n",
    "ax.errorbar(\n",
    "    range_n,\n",
    "    bound_01,\n",
    "    yerr=bound_err_01,\n",
    "    markersize=MARKERSIZE,\n",
    "    elinewidth=ELINEWIDTH,\n",
    "    fmt=\"*\",\n",
    "    capsize=CAPSIZE,\n",
    "    label=\"$b=$ Uniform [0, 1]\",\n",
    ")\n",
    "ax.errorbar(\n",
    "    range_n,\n",
    "    bound_14,\n",
    "    yerr=bound_err_14,\n",
    "    markersize=MARKERSIZE,\n",
    "    elinewidth=ELINEWIDTH,\n",
    "    fmt=\".\",\n",
    "    capsize=CAPSIZE,\n",
    "    label=\"$b=$ Uniform [1, 4]\",\n",
    ")\n",
    "ax.errorbar(\n",
    "    range_n,\n",
    "    bound_010,\n",
    "    yerr=bound_err_010,\n",
    "    markersize=MARKERSIZE,\n",
    "    elinewidth=ELINEWIDTH,\n",
    "    fmt=\"x\",\n",
    "    capsize=CAPSIZE,\n",
    "    label=\"$b=$ Uniform [0, 10]\",\n",
    ")\n",
    "ax.set_xlabel(\"$n$\")\n",
    "ax.legend()\n",
    "plt.show()"
   ]
  }
 ],
 "metadata": {
  "kernelspec": {
   "display_name": ".venv",
   "language": "python",
   "name": "python3"
  },
  "language_info": {
   "codemirror_mode": {
    "name": "ipython",
    "version": 3
   },
   "file_extension": ".py",
   "mimetype": "text/x-python",
   "name": "python",
   "nbconvert_exporter": "python",
   "pygments_lexer": "ipython3",
   "version": "3.11.11"
  }
 },
 "nbformat": 4,
 "nbformat_minor": 5
}
